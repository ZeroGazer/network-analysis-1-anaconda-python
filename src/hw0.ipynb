{
 "metadata": {
  "name": "",
  "signature": "sha256:ba1bbbe0c317468dff756a5eead67bb00a14b9c341cff468d96f687d5de204c7"
 },
 "nbformat": 3,
 "nbformat_minor": 0,
 "worksheets": [
  {
   "cells": [
    {
     "cell_type": "code",
     "collapsed": false,
     "input": [
      "import matplotlib.pyplot as plt\n",
      "import numpy as np\n",
      "import networkx as nx\n",
      "import operator\n",
      "%matplotlib inline\n",
      "\n",
      "data = np.loadtxt('facebook_combined.txt')  # load all the edges, which is saved in facebook_combined.txt file. \n",
      "                                            # For Windows, place the file under Documents\\IPython Notebooks folder. \n",
      "data = data.astype(int)   # conver nodeid from float to int, like 1.0 to 1\n",
      "#print data.shape\n",
      "\n",
      "edges_list = map(tuple, data)  # map(function, iterable): apply function to every item of iterable and return a list of results\n",
      "#print edges_list[:10]\n",
      "\n",
      "fbG = nx.Graph(edges_list)  # generate the facebook graph\n",
      "\n",
      "# print number of nodes and edges, and whether this network is connected or not\n",
      "print 'Number of nodes: ' + str(nx.number_of_nodes(fbG))\n",
      "print 'Number of edge: ' + str(nx.number_of_edges(fbG))\n",
      "print 'The network is connected: ' + str(nx.is_connected(fbG)) + '\\n'\n",
      "\n",
      "# print the id of node(or nodes) with maximum degree\n",
      "max_degree_node = max(nx.degree(fbG).iteritems(), key=operator.itemgetter(1))[0]\n",
      "print 'The id of node(or nodes) with maximum degree: ' + str(max_degree_node) + '\\n'\n",
      "\n",
      "# print the clustering coefficient of the previous maximum degree node \n",
      "# and average clustering coefficient of the whole graph\n",
      "print 'The clustering coefficient of the previous maximum degree node: ' + str(nx.clustering(fbG, max_degree_node))\n",
      "print 'The average clustering coefficient of the whole graph: ' + str(nx.average_clustering(fbG)) + '\\n'\n",
      "\n",
      "# print number of triangles, check networkx.algorithms.cluster.triangles() function in networkx document\n",
      "triangles_list = nx.triangles(fbG)\n",
      "num_of_triangles = 0\n",
      "for key in triangles_list.keys():\n",
      "    num_of_triangles += triangles_list[key]\n",
      "num_of_triangles /= 3\n",
      "print 'Number of triangles: ' + str(num_of_triangles) + '\\n'\n",
      "\n",
      "# print the shortest path from node 5 to 3000\n",
      "shortest_path_list = nx.shortest_path(fbG, 5, 3000)\n",
      "print 'The shortest path from node 5 to 3000'\n",
      "for nodes in shortest_path_list:\n",
      "    print '\\t' + str(nodes)\n",
      "print '\\n'\n",
      "\n",
      "# print the diameter and average shortest path length, it may take several minutes to complete, BE PATIENT!\n",
      "print 'The diameter: ' + str(nx.diameter(fbG)) + '\\n'\n",
      "print 'The average shortest path length: ' + str(nx.average_shortest_path_length(fbG))"
     ],
     "language": "python",
     "metadata": {},
     "outputs": [
      {
       "output_type": "stream",
       "stream": "stdout",
       "text": [
        "Number of nodes: 4039\n",
        "Number of edge: 88234\n",
        "The network is connected: True\n",
        "\n",
        "The id of node(or nodes) with maximum degree: 107\n",
        "\n",
        "The clustering coefficient of the previous maximum degree node: 0.0490384791655"
       ]
      },
      {
       "output_type": "stream",
       "stream": "stdout",
       "text": [
        "\n",
        "The average clustering coefficient of the whole graph: 0.60554671862\n"
       ]
      },
      {
       "output_type": "stream",
       "stream": "stdout",
       "text": [
        "\n",
        "Number of triangles: 1612010\n"
       ]
      },
      {
       "output_type": "stream",
       "stream": "stdout",
       "text": [
        "\n",
        "The shortest path from node 5 to 3000\n",
        "\t5\n",
        "\t0\n",
        "\t58\n",
        "\t1684\n",
        "\t3000\n",
        "\n",
        "\n",
        "The diameter: 8\n"
       ]
      },
      {
       "output_type": "stream",
       "stream": "stdout",
       "text": [
        "\n",
        "The average shortest path length: 3.6925068497"
       ]
      },
      {
       "output_type": "stream",
       "stream": "stdout",
       "text": [
        "\n"
       ]
      }
     ],
     "prompt_number": 2
    },
    {
     "cell_type": "code",
     "collapsed": false,
     "input": [],
     "language": "python",
     "metadata": {},
     "outputs": []
    }
   ],
   "metadata": {}
  }
 ]
}